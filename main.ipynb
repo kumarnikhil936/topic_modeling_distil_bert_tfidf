{
 "cells": [
  {
   "cell_type": "markdown",
   "metadata": {},
   "source": [
    "### Source : https://towardsdatascience.com/topic-modeling-with-bert-779f7db187e6"
   ]
  },
  {
   "cell_type": "markdown",
   "metadata": {},
   "source": [
    "#### Leveraging BERT and TF-IDF to create topic model.\n",
    "Pre-trained transformer-based models are especially helpful as they are supposed to contain more accurate representations of words and sentences."
   ]
  },
  {
   "cell_type": "markdown",
   "metadata": {},
   "source": [
    "##### Dataset\n",
    "Load the filenames and data from the 20 newsgroups dataset (classification).\n",
    "\n",
    "- Classes:20\n",
    "- Samples total:18846\n",
    "- Dimensionality:1\n",
    "- Features:text"
   ]
  },
  {
   "cell_type": "code",
   "execution_count": null,
   "metadata": {},
   "outputs": [],
   "source": [
    "!pip install scikit-learn"
   ]
  },
  {
   "cell_type": "code",
   "execution_count": 23,
   "metadata": {},
   "outputs": [
    {
     "name": "stdout",
     "output_type": "stream",
     "text": [
      "Wall time: 240 ms\n"
     ]
    }
   ],
   "source": [
    "%%time\n",
    "from sklearn.datasets import fetch_20newsgroups\n",
    "\n",
    "# Downloaded and cached so that it's not downloaded every time\n",
    "data = fetch_20newsgroups(subset='train')['data']\n"
   ]
  },
  {
   "cell_type": "code",
   "execution_count": 20,
   "metadata": {},
   "outputs": [
    {
     "name": "stdout",
     "output_type": "stream",
     "text": [
      "Type:  <class 'list'>\n",
      "Number of data points 18846\n",
      "Value type: <class 'str'>\n",
      "\n",
      "Sample data point \n",
      " From: Mamatha Devineni Ratnam <mr47+@andrew.cmu.edu>\n",
      "Subject: Pens fans reactions\n",
      "Organization: Post Office, Carnegie Mellon, Pittsburgh, PA\n",
      "Lines: 12\n",
      "NNTP-Posting-Host: po4.andrew.cmu.edu\n",
      "\n",
      "\n",
      "\n",
      "I am sure some bashers of Pens fans are pretty confused about the lack\n",
      "of any kind of posts about the recent Pens massacre of the Devils. Actually,\n",
      "I am  bit puzzled too and a bit relieved. However, I am going to put an end\n",
      "to non-PIttsburghers' relief with a bit of praise for the Pens. Man, they\n",
      "are killing those Devils worse than I thought. Jagr just showed you why\n",
      "he is much better than his regular season stats. He is also a lot\n",
      "fo fun to watch in the playoffs. Bowman should let JAgr have a lot of\n",
      "fun in the next couple of games since the Pens are going to beat the pulp out of Jersey anyway. I was very disappointed not to see the Islanders lose the final\n",
      "regular season game.          PENS RULE!!!\n",
      "\n",
      "\n"
     ]
    }
   ],
   "source": [
    "print('Type: ', type(data))\n",
    "print('Number of data points', len(data))\n",
    "print('Value type:', type(data[0]))\n",
    "print('\\nSample data point \\n',data[0])"
   ]
  },
  {
   "cell_type": "markdown",
   "metadata": {},
   "source": [
    "\n",
    "- ToDo: Only use mail content for topic modelling"
   ]
  },
  {
   "cell_type": "markdown",
   "metadata": {},
   "source": [
    "##### Create Embeddings\n",
    "The very first step we have to do is converting the documents to numerical data. We use BERT for this purpose as it extracts different embeddings based on the context of the word.\n",
    "\n",
    "For this, we are using SentenceTransformers - a Python framework for state-of-the-art sentence and text embeddings.\n",
    "https://www.sbert.net/\n",
    "\n",
    "This framework provides an easy method to compute dense vector representations for sentences and paragraphs (also known as sentence embeddings). The models are based on transformer networks like BERT / RoBERTa / XLM-RoBERTa etc. and are tuned specificially meaningul sentence embeddings such that sentences with similar meanings are close in vector space."
   ]
  },
  {
   "cell_type": "code",
   "execution_count": 26,
   "metadata": {},
   "outputs": [
    {
     "name": "stdout",
     "output_type": "stream",
     "text": [
      "Looking in links: https://download.pytorch.org/whl/torch_stable.html\n",
      "Collecting torch==1.7.1+cpu\n",
      "  Downloading https://download.pytorch.org/whl/cpu/torch-1.7.1%2Bcpu-cp36-cp36m-win_amd64.whl (184.2 MB)\n",
      "Collecting torchvision==0.8.2+cpu\n",
      "  Downloading https://download.pytorch.org/whl/cpu/torchvision-0.8.2%2Bcpu-cp36-cp36m-win_amd64.whl (805 kB)\n",
      "Collecting torchaudio===0.7.2\n",
      "  Downloading https://download.pytorch.org/whl/torchaudio-0.7.2-cp36-none-win_amd64.whl (103 kB)\n",
      "Requirement already satisfied: typing-extensions in c:\\users\\install_1407\\appdata\\roaming\\python\\python36\\site-packages (from torch==1.7.1+cpu) (3.7.4.3)\n",
      "Requirement already satisfied: dataclasses; python_version < \"3.7\" in c:\\users\\install_1407\\appdata\\roaming\\python\\python36\\site-packages (from torch==1.7.1+cpu) (0.8)\n",
      "Requirement already satisfied: numpy in c:\\users\\install_1407\\appdata\\roaming\\python\\python36\\site-packages (from torch==1.7.1+cpu) (1.19.4)\n",
      "Requirement already satisfied: pillow>=4.1.1 in c:\\programdata\\miniconda3\\envs\\py36\\lib\\site-packages (from torchvision==0.8.2+cpu) (7.2.0)\n",
      "Installing collected packages: torch, torchvision, torchaudio\n",
      "  Attempting uninstall: torch\n",
      "    Found existing installation: torch 1.7.1\n",
      "    Uninstalling torch-1.7.1:\n",
      "      Successfully uninstalled torch-1.7.1\n",
      "Successfully installed torch-1.7.1+cpu torchaudio-0.7.2 torchvision-0.8.2+cpu\n",
      "Requirement already satisfied: sentence-transformers in c:\\programdata\\miniconda3\\envs\\py36\\lib\\site-packages (0.4.1.2)\n",
      "Requirement already satisfied: torch>=1.6.0 in c:\\programdata\\miniconda3\\envs\\py36\\lib\\site-packages (from sentence-transformers) (1.7.1+cpu)\n",
      "Requirement already satisfied: tqdm in c:\\programdata\\miniconda3\\envs\\py36\\lib\\site-packages (from sentence-transformers) (4.47.0)\n",
      "Requirement already satisfied: transformers<5.0.0,>=3.1.0 in c:\\programdata\\miniconda3\\envs\\py36\\lib\\site-packages (from sentence-transformers) (4.1.1)\n",
      "Requirement already satisfied: numpy in c:\\users\\install_1407\\appdata\\roaming\\python\\python36\\site-packages (from sentence-transformers) (1.19.4)\n",
      "Requirement already satisfied: scipy in c:\\users\\install_1407\\appdata\\roaming\\python\\python36\\site-packages (from sentence-transformers) (1.5.3)\n",
      "Requirement already satisfied: scikit-learn in c:\\users\\install_1407\\appdata\\roaming\\python\\python36\\site-packages (from sentence-transformers) (0.23.2)\n",
      "Requirement already satisfied: sentencepiece in c:\\programdata\\miniconda3\\envs\\py36\\lib\\site-packages (from sentence-transformers) (0.1.95)\n",
      "Requirement already satisfied: nltk in c:\\programdata\\miniconda3\\envs\\py36\\lib\\site-packages (from sentence-transformers) (3.5)\n",
      "Requirement already satisfied: typing-extensions in c:\\users\\install_1407\\appdata\\roaming\\python\\python36\\site-packages (from torch>=1.6.0->sentence-transformers) (3.7.4.3)\n",
      "Requirement already satisfied: dataclasses; python_version < \"3.7\" in c:\\users\\install_1407\\appdata\\roaming\\python\\python36\\site-packages (from torch>=1.6.0->sentence-transformers) (0.8)\n",
      "Requirement already satisfied: sacremoses in c:\\programdata\\miniconda3\\envs\\py36\\lib\\site-packages (from transformers<5.0.0,>=3.1.0->sentence-transformers) (0.0.43)\n",
      "Requirement already satisfied: packaging in c:\\users\\install_1407\\appdata\\roaming\\python\\python36\\site-packages (from transformers<5.0.0,>=3.1.0->sentence-transformers) (20.4)\n",
      "Requirement already satisfied: requests in c:\\users\\install_1407\\appdata\\roaming\\python\\python36\\site-packages (from transformers<5.0.0,>=3.1.0->sentence-transformers) (2.25.0)\n",
      "Requirement already satisfied: tokenizers==0.9.4 in c:\\programdata\\miniconda3\\envs\\py36\\lib\\site-packages (from transformers<5.0.0,>=3.1.0->sentence-transformers) (0.9.4)\n",
      "Requirement already satisfied: filelock in c:\\programdata\\miniconda3\\envs\\py36\\lib\\site-packages (from transformers<5.0.0,>=3.1.0->sentence-transformers) (3.0.12)\n",
      "Requirement already satisfied: regex!=2019.12.17 in c:\\programdata\\miniconda3\\envs\\py36\\lib\\site-packages (from transformers<5.0.0,>=3.1.0->sentence-transformers) (2020.6.8)\n",
      "Requirement already satisfied: joblib>=0.11 in c:\\programdata\\miniconda3\\envs\\py36\\lib\\site-packages (from scikit-learn->sentence-transformers) (1.0.0)\n",
      "Requirement already satisfied: threadpoolctl>=2.0.0 in c:\\users\\install_1407\\appdata\\roaming\\python\\python36\\site-packages (from scikit-learn->sentence-transformers) (2.1.0)\n",
      "Requirement already satisfied: click in c:\\programdata\\miniconda3\\envs\\py36\\lib\\site-packages (from nltk->sentence-transformers) (7.1.2)\n",
      "Requirement already satisfied: six in c:\\users\\install_1407\\appdata\\roaming\\python\\python36\\site-packages (from sacremoses->transformers<5.0.0,>=3.1.0->sentence-transformers) (1.15.0)\n",
      "Requirement already satisfied: pyparsing>=2.0.2 in c:\\users\\install_1407\\appdata\\roaming\\python\\python36\\site-packages (from packaging->transformers<5.0.0,>=3.1.0->sentence-transformers) (2.4.7)\n",
      "Requirement already satisfied: idna<3,>=2.5 in c:\\users\\install_1407\\appdata\\roaming\\python\\python36\\site-packages (from requests->transformers<5.0.0,>=3.1.0->sentence-transformers) (2.10)\n",
      "Requirement already satisfied: chardet<4,>=3.0.2 in c:\\users\\install_1407\\appdata\\roaming\\python\\python36\\site-packages (from requests->transformers<5.0.0,>=3.1.0->sentence-transformers) (3.0.4)\n",
      "Requirement already satisfied: certifi>=2017.4.17 in c:\\users\\install_1407\\appdata\\roaming\\python\\python36\\site-packages (from requests->transformers<5.0.0,>=3.1.0->sentence-transformers) (2020.12.5)\n",
      "Requirement already satisfied: urllib3<1.27,>=1.21.1 in c:\\users\\install_1407\\appdata\\roaming\\python\\python36\\site-packages (from requests->transformers<5.0.0,>=3.1.0->sentence-transformers) (1.26.2)\n"
     ]
    }
   ],
   "source": [
    "!pip install torch==1.7.1+cpu torchvision==0.8.2+cpu torchaudio===0.7.2 -f https://download.pytorch.org/whl/torch_stable.html\n",
    "\n",
    "!pip install sentence-transformers"
   ]
  },
  {
   "cell_type": "code",
   "execution_count": 29,
   "metadata": {},
   "outputs": [
    {
     "data": {
      "application/vnd.jupyter.widget-view+json": {
       "model_id": "ec902e31f56a46d494e942b4878ab066",
       "version_major": 2,
       "version_minor": 0
      },
      "text/plain": [
       "HBox(children=(FloatProgress(value=0.0, description='Batches', max=354.0, style=ProgressStyle(description_widt…"
      ]
     },
     "metadata": {},
     "output_type": "display_data"
    },
    {
     "name": "stdout",
     "output_type": "stream",
     "text": [
      "\n"
     ]
    }
   ],
   "source": [
    "%%time\n",
    "from sentence_transformers import SentenceTransformer\n",
    "# DistilBERT is a small, fast, cheap and light Transformer model trained by distilling BERT base. \n",
    "# It has 40% less parameters than bert-base-uncased, runs 60% faster while preserving over 95% of BERT’s performances.\n",
    "model = SentenceTransformer('distilbert-base-nli-mean-tokens')\n",
    "embeddings = model.encode(data, show_progress_bar=True)"
   ]
  },
  {
   "cell_type": "code",
   "execution_count": 32,
   "metadata": {},
   "outputs": [
    {
     "name": "stdout",
     "output_type": "stream",
     "text": [
      "Sentence: From: lerxst@wam.umd.edu (where's my thing)\n",
      "Subject: WHAT car is this!?\n",
      "Nntp-Posting-Host: rac3.wam.umd.edu\n",
      "Organization: University of Maryland, College Park\n",
      "Lines: 15\n",
      "\n",
      " I was wondering if anyone out there could enlighten me on this car I saw\n",
      "the other day. It was a 2-door sports car, looked to be from the late 60s/\n",
      "early 70s. It was called a Bricklin. The doors were really small. In addition,\n",
      "the front bumper was separate from the rest of the body. This is \n",
      "all I know. If anyone can tellme a model name, engine specs, years\n",
      "of production, where this car is made, history, or whatever info you\n",
      "have on this funky looking car, please e-mail.\n",
      "\n",
      "Thanks,\n",
      "- IL\n",
      "   ---- brought to you by your neighborhood Lerxst ----\n",
      "\n",
      "\n",
      "\n",
      "\n",
      "\n",
      "Embedding: [-5.84846079e-01 -4.69497025e-01  4.10436064e-01 -7.23155558e-01\n",
      " -6.02805614e-01 -2.39600644e-01  4.06492829e-01 -4.50898767e-01\n",
      "  2.97268629e-01  7.85825789e-01  8.79602253e-01  3.16943049e-01\n",
      "  2.56070554e-01  3.74308348e-01  3.94643843e-02 -5.00394940e-01\n",
      " -1.59885556e-01  4.90844399e-01  3.96369874e-01  5.82625084e-02\n",
      " -5.43489397e-01  4.25890803e-01  2.28672564e-01  1.45856094e+00\n",
      " -5.05493164e-01  4.39947605e-01  3.59145015e-01 -5.61202914e-02\n",
      "  4.95222688e-01  2.52906978e-01  6.14030994e-02 -1.92156807e-02\n",
      " -9.96223927e-01 -3.48950773e-01  4.67899382e-01 -3.46609235e-01\n",
      "  7.40885258e-01 -2.11889118e-01  6.59427464e-01 -5.51411808e-01\n",
      "  2.69033641e-01 -5.39637148e-01 -1.93281606e-01  3.22220102e-02\n",
      " -1.87553704e-01 -1.89560056e-01 -1.99334472e-02  1.12693176e-01\n",
      " -5.35192013e-01  1.19777612e-01  1.97706059e-01  4.12075341e-01\n",
      "  5.34989595e-01  2.26009771e-01 -2.36581974e-02 -1.27104074e-01\n",
      "  5.81018031e-01 -6.21700525e-01  5.65017402e-01  9.92481768e-01\n",
      "  5.47629237e-01  3.07752371e-01 -5.86354494e-01 -5.15133560e-01\n",
      " -2.17203006e-01 -2.96814442e-01  1.14110485e-01  5.27694106e-01\n",
      " -1.01624811e+00  2.78523862e-01  7.18749315e-02 -4.54368442e-01\n",
      " -7.63411999e-01 -2.62445003e-01  1.99637741e-01 -9.31805670e-01\n",
      "  6.65919304e-01  6.18731380e-01 -4.33363497e-01 -3.77060592e-01\n",
      "  3.22923839e-01 -1.93184048e-01 -2.17660427e-01  1.16542578e+00\n",
      "  1.12996805e+00  2.79752374e-01  5.86841166e-01 -7.44392753e-01\n",
      "  2.26025596e-01  5.33245802e-01 -6.93688929e-01 -5.65459356e-02\n",
      "  6.69555843e-01  1.11787833e-01 -2.65232176e-02 -6.01857364e-01\n",
      " -1.91318002e-02 -4.54317182e-01  2.19557941e-01  1.55286938e-01\n",
      " -1.39549017e+00  5.42607903e-01 -6.94369376e-01  1.09913909e+00\n",
      " -2.59458184e-01 -5.53911090e-01  1.56893328e-01 -1.39410928e-01\n",
      " -1.17773366e+00  3.73781741e-01  4.74522054e-01  9.28187490e-01\n",
      "  5.95515430e-01  4.89849955e-01 -1.03274918e+00 -9.05505240e-01\n",
      " -1.71367362e-01 -7.41436124e-01  8.30159724e-01  9.88296628e-01\n",
      " -7.41049886e-01 -1.43685937e-01  7.28222072e-01  5.45562565e-01\n",
      "  1.96019545e-01  5.69247544e-01  1.84658617e-02  5.87907583e-02\n",
      "  3.10612470e-01  5.39304256e-01  3.89424741e-01 -2.55924821e-01\n",
      "  6.34377599e-01 -1.96584061e-01 -3.94479811e-01 -5.41811526e-01\n",
      " -6.82985604e-01  4.50939357e-01 -6.37112498e-01 -5.16073942e-01\n",
      " -3.29899639e-01  8.24246705e-02  1.90297693e-01 -4.88163412e-01\n",
      " -5.34163237e-01 -1.02180004e+00 -8.06533456e-01  1.12871705e-02\n",
      "  1.47329032e-01 -4.88831997e-01 -1.32220972e+00  5.84007353e-02\n",
      "  2.79337496e-01 -1.11206269e+00  1.07275832e+00  6.73748016e-01\n",
      "  4.43556368e-01 -1.50910482e-01  1.06551898e+00  1.30180880e-01\n",
      " -9.29898739e-01  1.41870081e-01 -5.82346201e-01  4.98788387e-01\n",
      "  1.52533457e-01 -2.80160084e-02 -2.31050521e-01 -4.66913402e-01\n",
      " -5.38587682e-02  5.43125384e-02  1.79879278e-01 -8.96928966e-01\n",
      "  4.68944103e-01  2.64150530e-01  8.10347378e-01  2.02949066e-03\n",
      "  1.44436312e+00 -8.25076997e-01 -2.17276394e-01  1.26990959e-01\n",
      "  9.92318273e-01 -8.42353702e-01 -2.26797581e-01  8.87846351e-01\n",
      " -5.78051925e-01  1.53941646e-01  4.23702985e-01  2.54113078e-01\n",
      "  6.65150821e-01  4.54308659e-01  8.93398643e-01 -3.82920176e-01\n",
      " -1.24388647e+00  3.27217430e-01  1.83381811e-01  3.21712136e-01\n",
      " -1.21740982e-01  2.51500905e-02  5.02417803e-01 -3.04718137e-01\n",
      "  1.92082316e-01 -8.43632817e-02  3.00367087e-01  6.83688596e-02\n",
      "  2.67746672e-02 -2.26798639e-01  9.39379215e-01  1.77660555e-01\n",
      "  1.25333115e-01  5.55770844e-03 -2.69673824e-01  5.18569827e-01\n",
      "  2.07957342e-01 -6.77781522e-01  4.62357029e-02 -1.18006393e-02\n",
      "  1.84286416e-01  1.20435953e-02 -3.21386993e-01 -2.00127289e-02\n",
      "  1.98714867e-01 -8.43541026e-01  5.87377846e-02  1.03859377e+00\n",
      " -1.51153892e-01 -2.55133390e-01 -2.27560759e-01 -9.55445647e-01\n",
      " -3.44299972e-01  1.32222548e-01 -1.68502063e-01  1.04202069e-01\n",
      "  1.99410669e-03 -5.19289494e-01  4.35098648e-01 -2.28345990e-01\n",
      " -3.63651991e-01 -4.48333621e-01  2.64967561e-01 -5.16174138e-01\n",
      "  9.42730531e-02  6.29591286e-01  4.74718779e-01  6.58926725e-01\n",
      "  2.19310731e-01 -5.07975280e-01  2.12064967e-01 -1.14829636e+00\n",
      "  9.60258022e-02  3.64489257e-01 -3.88263538e-02 -4.60489571e-01\n",
      " -1.49437785e-02 -5.10803163e-01 -1.22992374e-01 -5.02140343e-01\n",
      "  4.39289331e-01 -1.41363427e-01  1.77958027e-01  4.99482691e-01\n",
      "  9.58067998e-02 -4.50542212e-01  8.40208352e-01  4.37510431e-01\n",
      " -6.79886162e-01  5.06344855e-01 -8.11289623e-02  4.57876384e-01\n",
      "  3.93201113e-02  3.25298101e-01 -3.41440380e-01 -4.45414722e-01\n",
      "  6.70702532e-02  5.31779945e-01  1.21213675e-01 -2.36145318e-01\n",
      "  2.09878385e-01 -7.83737779e-01 -2.99753666e-01  1.65420473e-01\n",
      "  2.21071184e-01  2.28339955e-01 -1.87190056e-01 -1.41065812e+00\n",
      " -2.72770762e-01  2.53727973e-01  8.44425857e-01 -1.31934476e+00\n",
      "  6.63802922e-02 -5.10297060e-01  9.09378409e-01 -2.97150075e-01\n",
      " -2.89676666e-01  1.04583859e+00  7.81949222e-01 -1.26870014e-02\n",
      " -2.56969154e-01  3.36627573e-01 -4.33141738e-01  5.14142990e-01\n",
      " -6.86715782e-01  2.31737167e-01 -3.52673203e-01  6.94968522e-01\n",
      "  1.01078331e-01 -2.82757610e-01  5.74486971e-01 -7.95940876e-01\n",
      "  5.65401353e-02 -5.97601533e-01  1.88958660e-01 -2.89733648e-01\n",
      "  4.59870189e-01  5.79033673e-01 -4.30441082e-01  8.45249832e-01\n",
      " -1.69225901e-01 -3.94992441e-01 -4.76700813e-01  4.85527888e-03\n",
      " -4.82768714e-01  2.33668946e-02  1.97783768e-01  2.10439369e-01\n",
      " -3.80986571e-01  5.80915451e-01 -6.76500678e-01  2.28681743e-01\n",
      " -2.64129132e-01  1.12333514e-01  6.24403596e-01 -5.70913911e-01\n",
      "  8.60496461e-01 -9.76487994e-04 -1.58981815e-01  1.39018148e-01\n",
      "  4.10426199e-01  1.75215259e-01 -4.31575000e-01  6.93733931e-01\n",
      "  3.44845742e-01  8.73672724e-01  2.31925473e-01  3.64317238e-01\n",
      " -6.42903924e-01  3.28979045e-01  3.00124884e-01  5.59828818e-01\n",
      " -3.70030142e-02 -4.89372611e-01  4.73918974e-01  5.06270528e-01\n",
      "  2.66562914e-03 -4.56658393e-01 -6.29715323e-02 -7.82260001e-02\n",
      " -2.24412933e-01 -1.57965481e-01 -1.01107359e-01  6.72028005e-01\n",
      " -6.91662014e-01  5.34635782e-01  1.17729473e+00  1.45931900e-01\n",
      " -9.06610250e-01 -2.57355869e-01 -7.74265409e-01 -2.86810677e-02\n",
      "  2.54107147e-01  5.81459794e-03  2.30645016e-01  5.52603424e-01\n",
      " -4.53381896e-01 -6.02468371e-01 -1.60093978e-01 -4.18685973e-01\n",
      "  7.36269355e-01  1.53503671e-01 -7.93872595e-01 -3.63849223e-01\n",
      " -6.69287294e-02 -3.44474316e-01 -2.21379414e-01  4.18192387e-01\n",
      " -7.34135449e-01 -8.38659927e-02 -3.95895153e-01 -3.36812526e-01\n",
      " -7.38489270e-01  2.17470035e-01  1.18689612e-02  2.23099336e-01\n",
      " -5.70553362e-01 -1.83761299e-01 -8.29372406e-01 -1.12078738e+00\n",
      " -5.73240101e-01  7.87750542e-01 -3.88952136e-01 -4.68974411e-01\n",
      " -4.71423119e-02  6.71516657e-01 -3.76722813e-01  8.54316175e-01\n",
      " -1.14377446e-01 -5.06416500e-01  8.58118892e-01 -1.47227973e-01\n",
      " -1.76275611e-01 -8.31803441e-01 -1.65999055e-01 -4.73406464e-01\n",
      " -6.82354271e-01 -2.20914811e-01 -2.20054686e-01 -6.18885040e-01\n",
      " -7.87022591e-01 -1.56803206e-01 -1.13511217e+00 -1.43268973e-01\n",
      "  4.27269787e-01 -2.37442464e-01  5.25010899e-02  4.67687100e-01\n",
      " -4.72672343e-01 -6.55989230e-01 -1.10025749e-01 -7.75130764e-02\n",
      " -9.61853623e-01  1.19179271e-01 -1.29091167e+00 -9.91014302e-01\n",
      "  1.02555978e+00  3.49639058e-01 -6.58071458e-01  4.53188151e-01\n",
      " -5.33859193e-01  2.65669197e-01 -3.60262156e-01 -3.52175266e-01\n",
      " -1.67695150e-01  8.88475776e-01 -4.60663468e-01  2.03453377e-01\n",
      "  2.79319555e-01 -4.05611217e-01 -4.94693190e-01 -2.81511307e-01\n",
      " -8.11302841e-01 -1.96361810e-01  2.66559482e-01 -1.75687760e-01\n",
      " -3.06424230e-01  6.71766847e-02  1.47009981e+00  4.05258060e-01\n",
      " -3.18264663e-01 -6.69420004e-01 -2.69382596e-01 -5.19407630e-01\n",
      "  1.57980304e-02  2.35944867e-01 -4.30457354e-01  3.83695662e-01\n",
      "  1.04376590e+00  9.00479078e-01 -4.77925092e-01 -3.93030286e-01\n",
      "  1.41486809e-01 -7.34441221e-01 -2.60984480e-01 -1.31296277e-01\n",
      "  5.66862583e-01  7.20046163e-01  9.44152653e-01 -9.86077785e-02\n",
      "  7.13179469e-01 -4.33133066e-01 -5.68372477e-03 -1.66546285e+00\n",
      "  1.88918635e-01 -5.45065820e-01 -5.61817765e-01 -5.96675813e-01\n",
      "  7.38403440e-01 -6.74623400e-02 -7.56244242e-01 -1.46381944e-01\n",
      " -6.18699253e-01 -2.26853639e-01  2.74523705e-01 -4.66472320e-02\n",
      "  1.36193499e-01  5.56327283e-01  2.00322390e-01  4.31870073e-01\n",
      " -6.66483283e-01  7.36992776e-01  1.07671805e-01 -4.11357343e-01\n",
      "  2.68288016e-01 -8.77567232e-01  3.96185398e-01 -4.62404966e-01\n",
      "  3.44078802e-02  3.55952650e-01 -3.86164546e-01  5.63769221e-01\n",
      "  1.21145234e-01  7.15399802e-01 -8.33909214e-01  5.65785944e-01\n",
      "  7.67458528e-02 -9.41268325e-01  1.44634157e-01  2.44163185e-01\n",
      "  2.24012151e-01  5.23193121e-01  2.37045214e-01 -7.18229339e-02\n",
      " -3.96281630e-01 -3.79681319e-01  3.01204085e-01  3.33611310e-01\n",
      " -1.90073073e-01  1.99502930e-01 -5.76637089e-01 -7.53249466e-01\n",
      "  3.61620575e-01  9.75474492e-02  4.46639359e-01 -1.12449303e-01\n",
      "  6.63957953e-01  1.02097404e+00 -1.14879417e+00  1.04559410e+00\n",
      " -2.71138966e-01 -9.07063246e-01  3.99690211e-01 -8.82965997e-02\n",
      " -2.05489337e-01  1.08311012e-01  5.06169915e-01  1.92712575e-01\n",
      " -4.17151690e-01  5.93263581e-02 -1.05229390e+00  3.26288044e-01\n",
      " -4.75572228e-01  2.52687722e-01  3.90549749e-01  6.93031028e-02\n",
      " -6.06708169e-01  1.32036316e+00 -1.46993220e-01 -1.83525756e-01\n",
      " -8.02755892e-01  2.72021234e-01  2.45529115e-01 -3.13710690e-01\n",
      " -4.09496725e-01  2.20422342e-01  7.85795152e-01 -3.39914083e-01\n",
      " -4.62804496e-01 -9.71036479e-02 -9.23792839e-01 -1.42697453e-01\n",
      " -5.16660333e-01  5.54854155e-01 -1.72386557e-01 -4.67245549e-01\n",
      " -1.49971616e+00 -3.94847661e-01 -6.78510219e-02  5.70904836e-02\n",
      " -2.78467178e-01  1.00242615e-01  2.11568829e-02 -7.64840841e-02\n",
      " -9.35879499e-02  5.29897630e-01 -2.32105181e-02 -4.15742218e-01\n",
      " -1.14814889e+00 -3.30744177e-01  5.60072362e-01 -4.17126454e-02\n",
      "  5.87579489e-01  3.15543622e-01 -9.99278486e-01 -2.27352321e-01\n",
      "  9.73084122e-02 -4.21556473e-01  4.98258442e-01  8.53047520e-02\n",
      "  8.78693163e-01  4.83580351e-01  1.56163257e-02  1.24361716e-01\n",
      "  7.67127752e-01  3.79935294e-01 -3.32444638e-01  8.30693245e-02\n",
      "  2.36854523e-01  4.30768192e-01  6.76695347e-01 -2.06086144e-01\n",
      " -3.31271946e-01  8.98262978e-01  1.47496872e-02  4.40761417e-01\n",
      " -8.52575898e-02  5.12371719e-01 -2.18159497e-01  7.50810862e-01\n",
      "  9.58898515e-02 -6.08577609e-01 -9.17786479e-01  2.30745122e-01\n",
      "  7.04659104e-01  2.98507631e-01 -9.61488485e-01  3.93308789e-01\n",
      "  1.49630040e-01  1.84640065e-01 -2.72734553e-01  7.71320760e-01\n",
      "  9.59037900e-01  2.28011206e-01 -2.75940061e-01 -9.08572435e-01\n",
      "  7.16233075e-01 -8.95640254e-01 -3.13599169e-01  1.03971434e+00\n",
      " -5.14533281e-01  3.93360525e-01 -3.67372632e-02 -2.20556930e-03\n",
      " -9.95860994e-01  6.65815175e-02 -8.01763870e-03  1.93655062e+00\n",
      "  3.45672727e-01 -1.52429616e+00 -1.25126219e+00  6.31840825e-01\n",
      " -5.23972929e-01  8.94934893e-01 -7.77545631e-01  3.10299873e-01\n",
      "  1.35327607e-01  4.78918642e-01 -2.74628460e-01 -4.46239471e-01\n",
      "  3.03756058e-01 -2.24339038e-01 -1.21563017e-01 -9.43636894e-02\n",
      " -7.73726583e-01  1.19299367e-01  9.29619372e-01 -2.86702514e-01\n",
      "  1.82992995e-01  4.30179574e-03 -3.87308091e-01 -1.00697830e-01\n",
      " -2.68738508e-01 -1.14843464e+00 -5.72317466e-02  1.06305492e+00\n",
      " -7.41072476e-01 -6.05963543e-02  8.57625604e-01  6.12728536e-01\n",
      "  1.38515905e-01 -4.10331488e-01  9.32048559e-02 -2.08180487e-01\n",
      "  1.97293162e-02  2.69818962e-01 -6.29150629e-01  2.18125671e-01\n",
      "  2.06980556e-01 -1.95097968e-01 -6.63216829e-01 -2.62086451e-01\n",
      "  2.17332438e-01  3.33170965e-03  4.03107435e-01 -1.16982424e+00\n",
      " -4.52517904e-02 -1.76557004e-01 -2.22937971e-01  3.95984888e-01\n",
      " -5.91472983e-01 -6.23762190e-01 -7.08901048e-01 -1.77329943e-01\n",
      " -8.72308671e-01 -4.54123095e-02 -7.79104710e-01 -9.24938798e-01\n",
      " -4.11732227e-01 -7.99205527e-02  7.25957274e-01  7.51072168e-01\n",
      "  3.27708095e-01 -1.10360944e+00  4.86241102e-01  2.03577653e-02\n",
      " -1.31408319e-01 -2.46928558e-01  3.53114396e-01 -2.07739383e-01\n",
      " -8.10557961e-01  1.79299608e-01 -8.49933982e-01  1.12510502e-01\n",
      " -2.73851633e-01  3.92486230e-02 -1.10488549e-01  1.21414736e-01\n",
      " -2.97646016e-01  3.19755793e-01 -5.51846504e-01 -4.70767953e-02\n",
      "  1.90841958e-01 -2.73306459e-01 -3.37322652e-01 -2.28131890e-01\n",
      "  2.24709973e-01  5.01009166e-01  2.16752887e-01  3.58889550e-01\n",
      " -4.04177517e-01  5.56548774e-01  5.92065394e-01 -4.47625607e-01\n",
      " -3.17891866e-01  3.09407830e-01 -1.34950340e-01  2.12861523e-01\n",
      "  3.06308985e-01  4.63385642e-01 -2.15035737e-01  5.22675037e-01\n",
      " -1.37225375e-01  2.29440063e-01  7.14401722e-01  6.65297210e-01\n",
      "  1.59329966e-01  1.32142499e-01  2.61411607e-01 -6.68139935e-01\n",
      " -4.06761318e-01 -7.95654297e-01 -6.46332860e-01 -8.36830139e-02\n",
      " -9.33487356e-01  6.06298149e-01  4.03570116e-01 -3.26728821e-01\n",
      "  3.20538729e-01  3.26915771e-01  1.46974176e-01 -5.72024167e-01]\n",
      "\n"
     ]
    }
   ],
   "source": [
    "for sentence, embedding in zip(data[:1], embeddings[:1]):\n",
    "    print(\"Sentence:\", sentence)\n",
    "    print(\"Embedding:\", embedding)\n",
    "    print(\"\")"
   ]
  },
  {
   "cell_type": "markdown",
   "metadata": {},
   "source": [
    "##### UMAP\n",
    "Before doing any clustering of documents, we first need to lower the dimensionality of the embeddings as many clustering algorithms handle high dimensionality poorly, for which we use UMAP (https://github.com/lmcinnes/umap). Uniform Manifold Approximation and Projection (UMAP) is a dimension reduction technique that can be used for visualisation similarly to t-SNE, but also for general non-linear dimension reduction. The algorithm is founded on three assumptions about the data:\n",
    "\n",
    "- The data is uniformly distributed on a Riemannian manifold;\n",
    "- The Riemannian metric is locally constant (or can be approximated as such);\n",
    "- The manifold is locally connected.\n",
    "\n",
    "We reduce the dimensionality to 5 while keeping the size of the local neighborhood at 15"
   ]
  },
  {
   "cell_type": "code",
   "execution_count": 37,
   "metadata": {},
   "outputs": [
    {
     "name": "stdout",
     "output_type": "stream",
     "text": [
      "Requirement already satisfied: umap-learn in c:\\programdata\\miniconda3\\envs\\py36\\lib\\site-packages (0.4.6)\n",
      "Requirement already satisfied: scikit-learn>=0.20 in c:\\users\\install_1407\\appdata\\roaming\\python\\python36\\site-packages (from umap-learn) (0.23.2)\n",
      "Requirement already satisfied: numpy>=1.17 in c:\\users\\install_1407\\appdata\\roaming\\python\\python36\\site-packages (from umap-learn) (1.19.4)\n",
      "Requirement already satisfied: scipy>=1.3.1 in c:\\users\\install_1407\\appdata\\roaming\\python\\python36\\site-packages (from umap-learn) (1.5.3)\n",
      "Requirement already satisfied: numba!=0.47,>=0.46 in c:\\programdata\\miniconda3\\envs\\py36\\lib\\site-packages (from umap-learn) (0.50.1)\n",
      "Requirement already satisfied: joblib>=0.11 in c:\\programdata\\miniconda3\\envs\\py36\\lib\\site-packages (from scikit-learn>=0.20->umap-learn) (1.0.0)\n",
      "Requirement already satisfied: threadpoolctl>=2.0.0 in c:\\users\\install_1407\\appdata\\roaming\\python\\python36\\site-packages (from scikit-learn>=0.20->umap-learn) (2.1.0)\n",
      "Requirement already satisfied: llvmlite<0.34,>=0.33.0.dev0 in c:\\programdata\\miniconda3\\envs\\py36\\lib\\site-packages (from numba!=0.47,>=0.46->umap-learn) (0.33.0+1.g022ab0f)\n",
      "Requirement already satisfied: setuptools in c:\\users\\install_1407\\appdata\\roaming\\python\\python36\\site-packages (from numba!=0.47,>=0.46->umap-learn) (51.0.0)\n"
     ]
    }
   ],
   "source": [
    "!pip install umap-learn"
   ]
  },
  {
   "cell_type": "code",
   "execution_count": 41,
   "metadata": {},
   "outputs": [
    {
     "name": "stdout",
     "output_type": "stream",
     "text": [
      "Requirement already satisfied: joblib in c:\\programdata\\miniconda3\\envs\\py36\\lib\\site-packages (from hdbscan) (1.0.0)\n",
      "Requirement already satisfied: threadpoolctl>=2.0.0 in c:\\users\\install_1407\\appdata\\roaming\\python\\python36\\site-packages (from scikit-learn>=0.17->hdbscan) (2.1.0)\n",
      "Building wheels for collected packages: hdbscan\n",
      "  Building wheel for hdbscan (PEP 517): started\n",
      "  Building wheel for hdbscan (PEP 517): finished with status 'done'\n",
      "  Created wheel for hdbscan: filename=hdbscan-0.8.26-cp36-cp36m-win_amd64.whl size=618176 sha256=99db8da43eb74c760cd01263e8f6e4d00f1bc2131ff2f6e60da1ee84cbbfd851\n",
      "  Stored in directory: c:\\users\\install_1407\\appdata\\local\\pip\\cache\\wheels\\36\\20\\d1\\521b2fbf637de5bc40668b6445944e7e44bfbe68fdaa65157d\n",
      "Successfully built hdbscan\n",
      "Installing collected packages: hdbscan\n",
      "Successfully installed hdbscan-0.8.26\n",
      "Wall time: 12.7 s\n"
     ]
    }
   ],
   "source": [
    "%%time\n",
    "import umap\n",
    "umap_embeddings = umap.UMAP(n_neighbors=15, \n",
    "                            n_components=5, \n",
    "                            metric='cosine').fit_transform(embeddings)"
   ]
  },
  {
   "cell_type": "markdown",
   "metadata": {},
   "source": [
    "##### Clustering using HDBSCAN\n",
    "We want to make sure that documents with similar topics are clustered together such that we can find the topics within these clusters. \n",
    "For this we use HDBSCAN, which is a suite of tools to use unsupervised learning to find clusters, or dense regions, of a dataset.\n",
    "https://hdbscan.readthedocs.io/en/latest/basic_hdbscan.html\n",
    "\n",
    "    "
   ]
  },
  {
   "cell_type": "code",
   "execution_count": 40,
   "metadata": {},
   "outputs": [
    {
     "name": "stdout",
     "output_type": "stream",
     "text": [
      "Collecting hdbscan\n",
      "  Downloading hdbscan-0.8.26.tar.gz (4.7 MB)\n",
      "  Installing build dependencies: started\n",
      "  Installing build dependencies: finished with status 'done'\n",
      "  Getting requirements to build wheel: started\n",
      "  Getting requirements to build wheel: finished with status 'done'\n",
      "    Preparing wheel metadata: started\n",
      "    Preparing wheel metadata: finished with status 'done'\n",
      "Requirement already satisfied: numpy>=1.16.0 in c:\\users\\install_1407\\appdata\\roaming\\python\\python36\\site-packages (from hdbscan) (1.19.4)\n",
      "Requirement already satisfied: cython>=0.27 in c:\\programdata\\miniconda3\\envs\\py36\\lib\\site-packages (from hdbscan) (0.29.14)\n",
      "Requirement already satisfied: six in c:\\users\\install_1407\\appdata\\roaming\\python\\python36\\site-packages (from hdbscan) (1.15.0)\n",
      "Requirement already satisfied: scipy>=0.9 in c:\\users\\install_1407\\appdata\\roaming\\python\\python36\\site-packages (from hdbscan) (1.5.3)\n",
      "Requirement already satisfied: scikit-learn>=0.17 in c:\\users\\install_1407\\appdata\\roaming\\python\\python36\\site-packages (from hdbscan) (0.23.2)\n"
     ]
    }
   ],
   "source": [
    "!pip install hdbscan"
   ]
  },
  {
   "cell_type": "code",
   "execution_count": 42,
   "metadata": {},
   "outputs": [],
   "source": [
    "import hdbscan\n",
    "cluster = hdbscan.HDBSCAN(min_cluster_size=15,\n",
    "                          metric='euclidean',                      \n",
    "                          cluster_selection_method='eom').fit(umap_embeddings)"
   ]
  },
  {
   "cell_type": "code",
   "execution_count": 49,
   "metadata": {},
   "outputs": [
    {
     "name": "stdout",
     "output_type": "stream",
     "text": [
      "Number of clusters created:  69\n"
     ]
    }
   ],
   "source": [
    "print('Number of clusters created: ', cluster.labels_.max()+1)"
   ]
  },
  {
   "cell_type": "markdown",
   "metadata": {},
   "source": [
    "##### Visualization of clusters\n",
    "\n",
    "First reduce the dim. to 2 and visualize the outliers (label = -1) as gray points."
   ]
  },
  {
   "cell_type": "code",
   "execution_count": 45,
   "metadata": {},
   "outputs": [
    {
     "data": {
      "text/plain": [
       "<matplotlib.colorbar.Colorbar at 0x199acf69780>"
      ]
     },
     "execution_count": 45,
     "metadata": {},
     "output_type": "execute_result"
    },
    {
     "data": {
      "image/png": "[encoded data removed]",
      "text/plain": [
       "<Figure size 1440x720 with 2 Axes>"
      ]
     },
     "metadata": {
      "needs_background": "light"
     },
     "output_type": "display_data"
    }
   ],
   "source": [
    "import matplotlib.pyplot as plt\n",
    "import pandas as pd \n",
    "\n",
    "# Prepare data\n",
    "umap_data = umap.UMAP(n_neighbors=15, n_components=2, min_dist=0.0, metric='cosine').fit_transform(embeddings)\n",
    "result = pd.DataFrame(umap_data, columns=['x', 'y'])\n",
    "result['labels'] = cluster.labels_\n",
    "\n",
    "# Visualize clusters\n",
    "fig, ax = plt.subplots(figsize=(20, 10))\n",
    "outliers = result.loc[result.labels == -1, :]\n",
    "clustered = result.loc[result.labels != -1, :]\n",
    "plt.scatter(outliers.x, outliers.y, color='#BDBDBD', s=0.05)\n",
    "plt.scatter(clustered.x, clustered.y, c=clustered.labels, s=0.05, cmap='hsv_r')\n",
    "plt.colorbar()"
   ]
  },
  {
   "cell_type": "markdown",
   "metadata": {},
   "source": [
    "##### Create Topics\n",
    "What we want to know from the clusters that we generated, is what makes one cluster, based on their content, different from another? \n",
    "\n",
    "For this we use a class-based variant of TF-IDF (c-TF-IDF), that would allow t extract what makes each set of documents unique compared to the other.\n",
    "\n",
    "The intuition behind the method is as follows. When you apply TF-IDF as usual on a set of documents, what you are basically doing is comparing the importance of words between documents.\n",
    "\n",
    "\n",
    "What if, we instead treat all documents in a single category (e.g., a cluster) as a single document and then apply TF-IDF? The result would be a very long document per category and the resulting TF-IDF score would demonstrate the important words in a topic."
   ]
  },
  {
   "cell_type": "code",
   "execution_count": 47,
   "metadata": {},
   "outputs": [],
   "source": [
    "# To create this class-based TF-IDF score, we need to first create a single document for each cluster of documents\n",
    "docs_df = pd.DataFrame(data, columns=[\"Doc\"])\n",
    "docs_df['Topic'] = cluster.labels_\n",
    "docs_df['Doc_ID'] = range(len(docs_df))\n",
    "docs_per_topic = docs_df.groupby(['Topic'], as_index = False).agg({'Doc': ' '.join})"
   ]
  },
  {
   "cell_type": "code",
   "execution_count": 51,
   "metadata": {},
   "outputs": [
    {
     "data": {
      "text/html": [
       "<div>\n",
       "<style scoped>\n",
       "    .dataframe tbody tr th:only-of-type {\n",
       "        vertical-align: middle;\n",
       "    }\n",
       "\n",
       "    .dataframe tbody tr th {\n",
       "        vertical-align: top;\n",
       "    }\n",
       "\n",
       "    .dataframe thead th {\n",
       "        text-align: right;\n",
       "    }\n",
       "</style>\n",
       "<table border=\"1\" class=\"dataframe\">\n",
       "  <thead>\n",
       "    <tr style=\"text-align: right;\">\n",
       "      <th></th>\n",
       "      <th>Doc</th>\n",
       "      <th>Topic</th>\n",
       "      <th>Doc_ID</th>\n",
       "    </tr>\n",
       "  </thead>\n",
       "  <tbody>\n",
       "    <tr>\n",
       "      <th>0</th>\n",
       "      <td>From: lerxst@wam.umd.edu (where's my thing)\\nS...</td>\n",
       "      <td>50</td>\n",
       "      <td>0</td>\n",
       "    </tr>\n",
       "    <tr>\n",
       "      <th>1</th>\n",
       "      <td>From: guykuo@carson.u.washington.edu (Guy Kuo)...</td>\n",
       "      <td>-1</td>\n",
       "      <td>1</td>\n",
       "    </tr>\n",
       "    <tr>\n",
       "      <th>2</th>\n",
       "      <td>From: twillis@ec.ecn.purdue.edu (Thomas E Will...</td>\n",
       "      <td>-1</td>\n",
       "      <td>2</td>\n",
       "    </tr>\n",
       "    <tr>\n",
       "      <th>3</th>\n",
       "      <td>From: jgreen@amber (Joe Green)\\nSubject: Re: W...</td>\n",
       "      <td>68</td>\n",
       "      <td>3</td>\n",
       "    </tr>\n",
       "    <tr>\n",
       "      <th>4</th>\n",
       "      <td>From: jcm@head-cfa.harvard.edu (Jonathan McDow...</td>\n",
       "      <td>-1</td>\n",
       "      <td>4</td>\n",
       "    </tr>\n",
       "  </tbody>\n",
       "</table>\n",
       "</div>"
      ],
      "text/plain": [
       "                                                 Doc  Topic  Doc_ID\n",
       "0  From: lerxst@wam.umd.edu (where's my thing)\\nS...     50       0\n",
       "1  From: guykuo@carson.u.washington.edu (Guy Kuo)...     -1       1\n",
       "2  From: twillis@ec.ecn.purdue.edu (Thomas E Will...     -1       2\n",
       "3  From: jgreen@amber (Joe Green)\\nSubject: Re: W...     68       3\n",
       "4  From: jcm@head-cfa.harvard.edu (Jonathan McDow...     -1       4"
      ]
     },
     "execution_count": 51,
     "metadata": {},
     "output_type": "execute_result"
    }
   ],
   "source": [
    "docs_df.head()"
   ]
  },
  {
   "cell_type": "code",
   "execution_count": 53,
   "metadata": {},
   "outputs": [
    {
     "data": {
      "text/html": [
       "<div>\n",
       "<style scoped>\n",
       "    .dataframe tbody tr th:only-of-type {\n",
       "        vertical-align: middle;\n",
       "    }\n",
       "\n",
       "    .dataframe tbody tr th {\n",
       "        vertical-align: top;\n",
       "    }\n",
       "\n",
       "    .dataframe thead th {\n",
       "        text-align: right;\n",
       "    }\n",
       "</style>\n",
       "<table border=\"1\" class=\"dataframe\">\n",
       "  <thead>\n",
       "    <tr style=\"text-align: right;\">\n",
       "      <th></th>\n",
       "      <th>Topic</th>\n",
       "      <th>Doc</th>\n",
       "    </tr>\n",
       "  </thead>\n",
       "  <tbody>\n",
       "    <tr>\n",
       "      <th>0</th>\n",
       "      <td>-1</td>\n",
       "      <td>From: guykuo@carson.u.washington.edu (Guy Kuo)...</td>\n",
       "    </tr>\n",
       "    <tr>\n",
       "      <th>1</th>\n",
       "      <td>0</td>\n",
       "      <td>From: sera@zuma.UUCP (Serdar Argic)\\nSubject: ...</td>\n",
       "    </tr>\n",
       "    <tr>\n",
       "      <th>2</th>\n",
       "      <td>1</td>\n",
       "      <td>From: oz@ursa.sis.yorku.ca (Ozan S. Yigit)\\nSu...</td>\n",
       "    </tr>\n",
       "    <tr>\n",
       "      <th>3</th>\n",
       "      <td>2</td>\n",
       "      <td>From: ifaz706@utxvms.cc.utexas.edu (Noam Tract...</td>\n",
       "    </tr>\n",
       "    <tr>\n",
       "      <th>4</th>\n",
       "      <td>3</td>\n",
       "      <td>From: Clinton-HQ@Campaign92.Org (Clinton/Gore ...</td>\n",
       "    </tr>\n",
       "  </tbody>\n",
       "</table>\n",
       "</div>"
      ],
      "text/plain": [
       "   Topic                                                Doc\n",
       "0     -1  From: guykuo@carson.u.washington.edu (Guy Kuo)...\n",
       "1      0  From: sera@zuma.UUCP (Serdar Argic)\\nSubject: ...\n",
       "2      1  From: oz@ursa.sis.yorku.ca (Ozan S. Yigit)\\nSu...\n",
       "3      2  From: ifaz706@utxvms.cc.utexas.edu (Noam Tract...\n",
       "4      3  From: Clinton-HQ@Campaign92.Org (Clinton/Gore ..."
      ]
     },
     "execution_count": 53,
     "metadata": {},
     "output_type": "execute_result"
    }
   ],
   "source": [
    "docs_per_topic.head()\n",
    "# -1 are the outliers"
   ]
  },
  {
   "cell_type": "markdown",
   "metadata": {},
   "source": [
    "Apply c-tf-idf now\n",
    "\n",
    "The frequency of each word t is extracted for each class i and divided by the total number of words w. This action can be seen as a form of regularization of frequent words in the class. Next, the total, unjoined, number of documents m is divided by the total frequency of word t across all classes n."
   ]
  },
  {
   "cell_type": "code",
   "execution_count": 55,
   "metadata": {},
   "outputs": [],
   "source": [
    "import numpy as np\n",
    "from sklearn.feature_extraction.text import CountVectorizer\n",
    "\n",
    "def c_tf_idf(documents, m, ngram_range=(1, 1)):\n",
    "    count = CountVectorizer(ngram_range=ngram_range, stop_words=\"english\").fit(documents)\n",
    "    t = count.transform(documents).toarray()\n",
    "    w = t.sum(axis=1)\n",
    "    tf = np.divide(t.T, w)\n",
    "    sum_t = t.sum(axis=0)\n",
    "    idf = np.log(np.divide(m, sum_t)).reshape(-1, 1)\n",
    "    tf_idf = np.multiply(tf, idf)\n",
    "\n",
    "    return tf_idf, count\n",
    "  \n",
    "tf_idf, count = c_tf_idf(docs_per_topic.Doc.values, m=len(data))"
   ]
  },
  {
   "cell_type": "markdown",
   "metadata": {},
   "source": [
    "Now, we have a single importance value for each word in a cluster which can be used to create the topic. If we take the top 20 most important words in each cluster based on their c-TF-IDF scores, then we would get a good representation of a cluster, and thereby a topic.The higher the score, the more representative it should be of its topic as the score is a proxy of information density."
   ]
  },
  {
   "cell_type": "code",
   "execution_count": 61,
   "metadata": {},
   "outputs": [
    {
     "name": "stdout",
     "output_type": "stream",
     "text": [
      "Shape of the TF-IDF output (129796, 70)\n"
     ]
    }
   ],
   "source": [
    "print('Shape of the TF-IDF output', tf_idf.shape)\n",
    "# Number of words * number of clusters \n",
    "# The score tells the relative importance of every word in each cluster"
   ]
  },
  {
   "cell_type": "code",
   "execution_count": 65,
   "metadata": {},
   "outputs": [
    {
     "data": {
      "text/html": [
       "<div>\n",
       "<style scoped>\n",
       "    .dataframe tbody tr th:only-of-type {\n",
       "        vertical-align: middle;\n",
       "    }\n",
       "\n",
       "    .dataframe tbody tr th {\n",
       "        vertical-align: top;\n",
       "    }\n",
       "\n",
       "    .dataframe thead th {\n",
       "        text-align: right;\n",
       "    }\n",
       "</style>\n",
       "<table border=\"1\" class=\"dataframe\">\n",
       "  <thead>\n",
       "    <tr style=\"text-align: right;\">\n",
       "      <th></th>\n",
       "      <th>Topic</th>\n",
       "      <th>Size</th>\n",
       "    </tr>\n",
       "  </thead>\n",
       "  <tbody>\n",
       "    <tr>\n",
       "      <th>0</th>\n",
       "      <td>-1</td>\n",
       "      <td>5845</td>\n",
       "    </tr>\n",
       "    <tr>\n",
       "      <th>51</th>\n",
       "      <td>50</td>\n",
       "      <td>1312</td>\n",
       "    </tr>\n",
       "    <tr>\n",
       "      <th>9</th>\n",
       "      <td>8</td>\n",
       "      <td>334</td>\n",
       "    </tr>\n",
       "    <tr>\n",
       "      <th>31</th>\n",
       "      <td>30</td>\n",
       "      <td>293</td>\n",
       "    </tr>\n",
       "    <tr>\n",
       "      <th>62</th>\n",
       "      <td>61</td>\n",
       "      <td>277</td>\n",
       "    </tr>\n",
       "    <tr>\n",
       "      <th>13</th>\n",
       "      <td>12</td>\n",
       "      <td>274</td>\n",
       "    </tr>\n",
       "    <tr>\n",
       "      <th>69</th>\n",
       "      <td>68</td>\n",
       "      <td>248</td>\n",
       "    </tr>\n",
       "    <tr>\n",
       "      <th>65</th>\n",
       "      <td>64</td>\n",
       "      <td>139</td>\n",
       "    </tr>\n",
       "    <tr>\n",
       "      <th>38</th>\n",
       "      <td>37</td>\n",
       "      <td>123</td>\n",
       "    </tr>\n",
       "    <tr>\n",
       "      <th>37</th>\n",
       "      <td>36</td>\n",
       "      <td>119</td>\n",
       "    </tr>\n",
       "  </tbody>\n",
       "</table>\n",
       "</div>"
      ],
      "text/plain": [
       "    Topic  Size\n",
       "0      -1  5845\n",
       "51     50  1312\n",
       "9       8   334\n",
       "31     30   293\n",
       "62     61   277\n",
       "13     12   274\n",
       "69     68   248\n",
       "65     64   139\n",
       "38     37   123\n",
       "37     36   119"
      ]
     },
     "execution_count": 65,
     "metadata": {},
     "output_type": "execute_result"
    }
   ],
   "source": [
    "def extract_top_n_words_per_topic(tf_idf, count, docs_per_topic, n=20):\n",
    "    words = count.get_feature_names()\n",
    "    labels = list(docs_per_topic.Topic)\n",
    "    tf_idf_transposed = tf_idf.T\n",
    "    indices = tf_idf_transposed.argsort()[:, -n:]\n",
    "    top_n_words = {label: [(words[j], tf_idf_transposed[i][j]) for j in indices[i]][::-1] for i, label in enumerate(labels)}\n",
    "    return top_n_words\n",
    "\n",
    "def extract_topic_sizes(df):\n",
    "    topic_sizes = (df.groupby(['Topic'])\n",
    "                     .Doc\n",
    "                     .count()\n",
    "                     .reset_index()\n",
    "                     .rename({\"Topic\": \"Topic\", \"Doc\": \"Size\"}, axis='columns')\n",
    "                     .sort_values(\"Size\", ascending=False))\n",
    "    return topic_sizes\n",
    "\n",
    "top_n_words = extract_top_n_words_per_topic(tf_idf, count, docs_per_topic, n=20)\n",
    "topic_sizes = extract_topic_sizes(docs_df); topic_sizes.head(10)"
   ]
  },
  {
   "cell_type": "markdown",
   "metadata": {},
   "source": [
    "We can see that topics 50, 8, 30, 61 are the largest clusters that we could create (-1 are outliers). To view the words belonging to those topics, we can simply use the dictionarytop_n_words to access these topics."
   ]
  },
  {
   "cell_type": "code",
   "execution_count": 76,
   "metadata": {},
   "outputs": [
    {
     "name": "stdout",
     "output_type": "stream",
     "text": [
      "Topic 50\n",
      " [('sale', 0.008889929630668869), ('00', 0.007259391673408139), ('thanks', 0.005844150249268806), ('car', 0.00580942871054605), ('dos', 0.005571546859844802), ('windows', 0.005275491232088138), ('price', 0.004824997440522813), ('cx', 0.004794182266861812), ('c_', 0.004374954816803188), ('card', 0.004281002649596861)] \n",
      "\n",
      "Topic 8\n",
      " [('baseball', 0.016536041931904215), ('players', 0.011835529189980156), ('braves', 0.011257882121194156), ('cubs', 0.011081924816131593), ('game', 0.010464815515045507), ('pitching', 0.009993521485975812), ('02', 0.009719514464417366), ('games', 0.00959203291183319), ('runs', 0.009423074837877896), ('phillies', 0.00939764295081709)] \n",
      "\n",
      "Topic 30\n",
      " [('nasa', 0.02943029536732928), ('space', 0.022751512940185483), ('gov', 0.017871743344432017), ('launch', 0.013408604320286855), ('jpl', 0.012154909248933556), ('satellite', 0.009254801158484609), ('spacecraft', 0.008638201998191031), ('station', 0.008619826462489863), ('baalke', 0.00797764397252848), ('shuttle', 0.007132762191878978)] \n",
      "\n",
      "Topic 61\n",
      " [('windows', 0.0135010233255233), ('problem', 0.010846793083039106), ('allocation', 0.010061227292993124), ('disk', 0.00880110775963488), ('files', 0.008053730004836569), ('linked', 0.007884057075354283), ('help', 0.007522996311843178), ('dos', 0.007256715854128292), ('error', 0.007232402026619957), ('vpic46', 0.007097584979978209)] \n",
      "\n"
     ]
    }
   ],
   "source": [
    "for topic in [50, 8, 30, 61]:\n",
    "    print(f'Topic {topic}\\n', top_n_words[topic][:10], '\\n')"
   ]
  },
  {
   "cell_type": "markdown",
   "metadata": {},
   "source": [
    "##### Reducing the number of topics\n",
    "There is a chance that, depending on the dataset, you will get hundreds of topics that were created! You can tweak the parameters of HDBSCAN such that you will get fewer topics through its min_cluster_size parameter but it does not allow you to \n",
    "specify the exact number of clusters.\n",
    "\n",
    "To reduce the number of topics, we can use a compare the c-TF-IDF vectors among topics, merge the most similar ones, and finally re-calculate the c-TF-IDF vectors to update the representation of our topics."
   ]
  },
  {
   "cell_type": "code",
   "execution_count": 78,
   "metadata": {},
   "outputs": [
    {
     "data": {
      "text/html": [
       "<div>\n",
       "<style scoped>\n",
       "    .dataframe tbody tr th:only-of-type {\n",
       "        vertical-align: middle;\n",
       "    }\n",
       "\n",
       "    .dataframe tbody tr th {\n",
       "        vertical-align: top;\n",
       "    }\n",
       "\n",
       "    .dataframe thead th {\n",
       "        text-align: right;\n",
       "    }\n",
       "</style>\n",
       "<table border=\"1\" class=\"dataframe\">\n",
       "  <thead>\n",
       "    <tr style=\"text-align: right;\">\n",
       "      <th></th>\n",
       "      <th>Topic</th>\n",
       "      <th>Size</th>\n",
       "    </tr>\n",
       "  </thead>\n",
       "  <tbody>\n",
       "    <tr>\n",
       "      <th>0</th>\n",
       "      <td>-1</td>\n",
       "      <td>5845</td>\n",
       "    </tr>\n",
       "    <tr>\n",
       "      <th>36</th>\n",
       "      <td>35</td>\n",
       "      <td>1457</td>\n",
       "    </tr>\n",
       "    <tr>\n",
       "      <th>7</th>\n",
       "      <td>6</td>\n",
       "      <td>353</td>\n",
       "    </tr>\n",
       "    <tr>\n",
       "      <th>43</th>\n",
       "      <td>42</td>\n",
       "      <td>311</td>\n",
       "    </tr>\n",
       "    <tr>\n",
       "      <th>24</th>\n",
       "      <td>23</td>\n",
       "      <td>310</td>\n",
       "    </tr>\n",
       "    <tr>\n",
       "      <th>11</th>\n",
       "      <td>10</td>\n",
       "      <td>274</td>\n",
       "    </tr>\n",
       "    <tr>\n",
       "      <th>49</th>\n",
       "      <td>48</td>\n",
       "      <td>270</td>\n",
       "    </tr>\n",
       "    <tr>\n",
       "      <th>27</th>\n",
       "      <td>26</td>\n",
       "      <td>140</td>\n",
       "    </tr>\n",
       "    <tr>\n",
       "      <th>46</th>\n",
       "      <td>45</td>\n",
       "      <td>139</td>\n",
       "    </tr>\n",
       "    <tr>\n",
       "      <th>39</th>\n",
       "      <td>38</td>\n",
       "      <td>129</td>\n",
       "    </tr>\n",
       "  </tbody>\n",
       "</table>\n",
       "</div>"
      ],
      "text/plain": [
       "    Topic  Size\n",
       "0      -1  5845\n",
       "36     35  1457\n",
       "7       6   353\n",
       "43     42   311\n",
       "24     23   310\n",
       "11     10   274\n",
       "49     48   270\n",
       "27     26   140\n",
       "46     45   139\n",
       "39     38   129"
      ]
     },
     "execution_count": 78,
     "metadata": {},
     "output_type": "execute_result"
    }
   ],
   "source": [
    "# Take the least common topic and merged it with the most similar topic. \n",
    "# By repeating this 19 more times we reduced the number of topics.\n",
    "\n",
    "from sklearn.metrics.pairwise import cosine_similarity\n",
    "for i in range(20):\n",
    "    # Calculate cosine similarity\n",
    "    similarities = cosine_similarity(tf_idf.T)\n",
    "    np.fill_diagonal(similarities, 0)\n",
    "\n",
    "    # Extract label to merge into and from where\n",
    "    topic_sizes = docs_df.groupby(['Topic']).count().sort_values(\"Doc\", ascending=False).reset_index()\n",
    "    topic_to_merge = topic_sizes.iloc[-1].Topic\n",
    "    topic_to_merge_into = np.argmax(similarities[topic_to_merge + 1]) - 1\n",
    "\n",
    "    # Adjust topics\n",
    "    docs_df.loc[docs_df.Topic == topic_to_merge, \"Topic\"] = topic_to_merge_into\n",
    "    old_topics = docs_df.sort_values(\"Topic\").Topic.unique()\n",
    "    map_topics = {old_topic: index - 1 for index, old_topic in enumerate(old_topics)}\n",
    "    docs_df.Topic = docs_df.Topic.map(map_topics)\n",
    "    docs_per_topic = docs_df.groupby(['Topic'], as_index = False).agg({'Doc': ' '.join})\n",
    "\n",
    "    # Calculate new topic words\n",
    "    m = len(data)\n",
    "    tf_idf, count = c_tf_idf(docs_per_topic.Doc.values, m)\n",
    "    top_n_words = extract_top_n_words_per_topic(tf_idf, count, docs_per_topic, n=20)\n",
    "\n",
    "topic_sizes = extract_topic_sizes(docs_df)\n",
    "topic_sizes.head(10)"
   ]
  },
  {
   "cell_type": "code",
   "execution_count": 80,
   "metadata": {},
   "outputs": [
    {
     "name": "stdout",
     "output_type": "stream",
     "text": [
      "Topic 35\n",
      " [('sale', 0.007742945553680112), ('00', 0.006258682621909829), ('car', 0.005650203571793135), ('thanks', 0.0054077973946940056), ('dos', 0.005058568548319985), ('windows', 0.005031914718393877), ('price', 0.004570777085270509), ('mail', 0.0041390097778088875), ('cx', 0.004075781865403664), ('keyboard', 0.003957685901873815)] \n",
      "\n",
      "Topic 6\n",
      " [('baseball', 0.015520189432353079), ('players', 0.011301073471579702), ('braves', 0.01056628084565541), ('cubs', 0.01040113306011984), ('game', 0.009920153748722687), ('pitching', 0.009379593206000927), ('02', 0.009194819307680105), ('runs', 0.009116319535538847), ('games', 0.009002769129763156), ('phillies', 0.008820321054755755)] \n",
      "\n",
      "Topic 42\n",
      " [('windows', 0.012754010962959441), ('problem', 0.010397365970515712), ('disk', 0.008996994189807097), ('allocation', 0.008895273711257805), ('dos', 0.0077905722496289095), ('drive', 0.007523727450338758), ('files', 0.007193823253550085), ('help', 0.006980998671239095), ('linked', 0.006970406651015213), ('error', 0.006594090094343078)] \n",
      "\n",
      "Topic 23\n",
      " [('nasa', 0.029048932340750167), ('space', 0.021860579474253055), ('gov', 0.01792527633165443), ('launch', 0.01284037176203627), ('jpl', 0.012818520570347394), ('baalke', 0.009458509982826475), ('satellite', 0.00893966539559272), ('orbit', 0.008710719001644626), ('spacecraft', 0.008272130518798434), ('station', 0.008254533705282757)] \n",
      "\n"
     ]
    }
   ],
   "source": [
    "for topic in topic_sizes['Topic'][1:5]:\n",
    "    print(f'Topic {topic}\\n', top_n_words[topic][:10], '\\n')"
   ]
  },
  {
   "cell_type": "code",
   "execution_count": null,
   "metadata": {},
   "outputs": [],
   "source": []
  }
 ],
 "metadata": {
  "kernelspec": {
   "display_name": "Python 3",
   "language": "python",
   "name": "python3"
  },
  "language_info": {
   "codemirror_mode": {
    "name": "ipython",
    "version": 3
   },
   "file_extension": ".py",
   "mimetype": "text/x-python",
   "name": "python",
   "nbconvert_exporter": "python",
   "pygments_lexer": "ipython3",
   "version": "3.6.10"
  }
 },
 "nbformat": 4,
 "nbformat_minor": 4
}
